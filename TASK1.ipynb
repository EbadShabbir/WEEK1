{
 "cells": [
  {
   "cell_type": "code",
   "execution_count": 2,
   "id": "8de7b678",
   "metadata": {},
   "outputs": [
    {
     "name": "stderr",
     "output_type": "stream",
     "text": [
      "\n",
      "[notice] A new release of pip is available: 24.3.1 -> 25.1.1\n",
      "[notice] To update, run: python.exe -m pip install --upgrade pip\n"
     ]
    },
    {
     "name": "stdout",
     "output_type": "stream",
     "text": [
      "Requirement already satisfied: ollama in c:\\users\\ebads\\appdata\\local\\programs\\python\\python313\\lib\\site-packages (0.4.9)\n",
      "Requirement already satisfied: httpx>=0.27 in c:\\users\\ebads\\appdata\\local\\programs\\python\\python313\\lib\\site-packages (from ollama) (0.28.1)\n",
      "Requirement already satisfied: pydantic>=2.9 in c:\\users\\ebads\\appdata\\local\\programs\\python\\python313\\lib\\site-packages (from ollama) (2.11.5)\n",
      "Requirement already satisfied: anyio in c:\\users\\ebads\\appdata\\local\\programs\\python\\python313\\lib\\site-packages (from httpx>=0.27->ollama) (4.9.0)\n",
      "Requirement already satisfied: certifi in c:\\users\\ebads\\appdata\\local\\programs\\python\\python313\\lib\\site-packages (from httpx>=0.27->ollama) (2025.4.26)\n",
      "Requirement already satisfied: httpcore==1.* in c:\\users\\ebads\\appdata\\local\\programs\\python\\python313\\lib\\site-packages (from httpx>=0.27->ollama) (1.0.9)\n",
      "Requirement already satisfied: idna in c:\\users\\ebads\\appdata\\local\\programs\\python\\python313\\lib\\site-packages (from httpx>=0.27->ollama) (3.10)\n",
      "Requirement already satisfied: h11>=0.16 in c:\\users\\ebads\\appdata\\local\\programs\\python\\python313\\lib\\site-packages (from httpcore==1.*->httpx>=0.27->ollama) (0.16.0)\n",
      "Requirement already satisfied: annotated-types>=0.6.0 in c:\\users\\ebads\\appdata\\local\\programs\\python\\python313\\lib\\site-packages (from pydantic>=2.9->ollama) (0.7.0)\n",
      "Requirement already satisfied: pydantic-core==2.33.2 in c:\\users\\ebads\\appdata\\local\\programs\\python\\python313\\lib\\site-packages (from pydantic>=2.9->ollama) (2.33.2)\n",
      "Requirement already satisfied: typing-extensions>=4.12.2 in c:\\users\\ebads\\appdata\\local\\programs\\python\\python313\\lib\\site-packages (from pydantic>=2.9->ollama) (4.13.2)\n",
      "Requirement already satisfied: typing-inspection>=0.4.0 in c:\\users\\ebads\\appdata\\local\\programs\\python\\python313\\lib\\site-packages (from pydantic>=2.9->ollama) (0.4.1)\n",
      "Requirement already satisfied: sniffio>=1.1 in c:\\users\\ebads\\appdata\\local\\programs\\python\\python313\\lib\\site-packages (from anyio->httpx>=0.27->ollama) (1.3.1)\n"
     ]
    }
   ],
   "source": [
    "!pip install ollama\n",
    "import ollama"
   ]
  },
  {
   "cell_type": "code",
   "execution_count": 3,
   "id": "c81e3307",
   "metadata": {},
   "outputs": [
    {
     "name": "stdout",
     "output_type": "stream",
     "text": [
      "<think>\n",
      "Okay, so the user is asking for the capital of Argentina. Let me think. I remember that Argentina is a country in South America, right? I think it's in the southern part of the continent. Now, I need to recall its capital. Oh, right! The capital is Buenos Aires. But wait, how do I make sure I'm not confusing it with another country? Like, maybe there's a city in the north? No, Buenos Aires is the main city. Let me check my memory again. Yes, Buenos Aires is definitely the capital. I don't think there's a different city called that. Maybe I should mention that it's the capital city to be clear. Also, sometimes people mix up the capital with other cities, like in the north or south. But I'm pretty confident it's Buenos Aires. Alright, I think that's all.\n",
      "</think>\n",
      "\n",
      "The capital of Argentina is **Buenos Aires**.\n"
     ]
    }
   ],
   "source": [
    "response = ollama.chat(\n",
    "    model=\"qwen3:0.6b\",\n",
    "    messages=[\n",
    "        {\"role\": \"user\", \"content\": \"What is the capital of argentina?/think\"},\n",
    "    ]\n",
    ")\n",
    "print(response[\"message\"][\"content\"])"
   ]
  },
  {
   "cell_type": "code",
   "execution_count": 6,
   "id": "228029fb",
   "metadata": {},
   "outputs": [
    {
     "name": "stdout",
     "output_type": "stream",
     "text": [
      "<think>\n",
      "Okay, the user is asking for the capital of Argentina. I need to recall the correct information. I remember that Argentina is a country in South America, and its capital is Buenos Aires. But wait, let me make sure. I think the capital is indeed Buenos Aires, and it's a major city with a lot of population and economic significance. I should double-check if there's any other city that might be considered the capital, but I don't think so. Also, maybe mention that it's the largest city in terms of population to give more context. Alright, that should be all.\n",
      "</think>\n",
      "\n",
      "The capital of Argentina is **Buenos Aires**. This city is a significant economic hub and serves as the political and cultural center of the country. It is home to over 13 million people and plays a central role in Argentina's national identity and governance.\n"
     ]
    }
   ],
   "source": [
    "response = ollama.chat(\n",
    "    model=\"qwen3:0.6b\",\n",
    "    messages=[\n",
    "        {\"role\": \"user\", \"content\": \"What is the capital of argentina?/nothink\"},\n",
    "    ]\n",
    ")\n",
    "print(response[\"message\"][\"content\"])"
   ]
  }
 ],
 "metadata": {
  "kernelspec": {
   "display_name": "Python 3",
   "language": "python",
   "name": "python3"
  },
  "language_info": {
   "codemirror_mode": {
    "name": "ipython",
    "version": 3
   },
   "file_extension": ".py",
   "mimetype": "text/x-python",
   "name": "python",
   "nbconvert_exporter": "python",
   "pygments_lexer": "ipython3",
   "version": "3.13.1"
  }
 },
 "nbformat": 4,
 "nbformat_minor": 5
}
